{
 "cells": [
  {
   "cell_type": "code",
   "execution_count": 13,
   "metadata": {
    "collapsed": true
   },
   "outputs": [],
   "source": [
    "# Multi-variable linear regression\n",
    "import tensorflow as tf\n",
    "import matplotlib.pyplot as plt\n",
    "tf.set_random_seed(777)"
   ]
  },
  {
   "cell_type": "code",
   "execution_count": 14,
   "metadata": {
    "collapsed": true
   },
   "outputs": [],
   "source": [
    "x1_data = [73., 93., 89., 96., 73.]\n",
    "x2_data = [80., 88., 91., 98., 66.]\n",
    "x3_data = [75., 93., 90., 100., 70.]"
   ]
  },
  {
   "cell_type": "code",
   "execution_count": 15,
   "metadata": {
    "collapsed": true
   },
   "outputs": [],
   "source": [
    "y_data = [152., 185., 180., 196., 142.]"
   ]
  },
  {
   "cell_type": "code",
   "execution_count": 16,
   "metadata": {
    "collapsed": true
   },
   "outputs": [],
   "source": [
    "x1 = tf.placeholder(tf.float32)\n",
    "x2 = tf.placeholder(tf.float32)\n",
    "x3 = tf.placeholder(tf.float32)"
   ]
  },
  {
   "cell_type": "code",
   "execution_count": 17,
   "metadata": {
    "collapsed": true
   },
   "outputs": [],
   "source": [
    "Y = tf.placeholder(tf.float32)"
   ]
  },
  {
   "cell_type": "code",
   "execution_count": 18,
   "metadata": {
    "collapsed": true
   },
   "outputs": [],
   "source": [
    "w1 = tf.Variable(tf.random_normal([1]), name=\"weight1\")\n",
    "w2 = tf.Variable(tf.random_normal([1]), name=\"weight2\")\n",
    "w3 = tf.Variable(tf.random_normal([1]), name=\"weight3\")\n",
    "b = tf.Variable(tf.random_normal([1]), name=\"bias\")"
   ]
  },
  {
   "cell_type": "code",
   "execution_count": 19,
   "metadata": {},
   "outputs": [
    {
     "name": "stdout",
     "output_type": "stream",
     "text": [
      "Tensor(\"add_5:0\", dtype=float32)\n"
     ]
    }
   ],
   "source": [
    "hypothesis = x1 * w1 + x2 * w2 + x3 * w3 + b\n",
    "print(hypothesis)"
   ]
  },
  {
   "cell_type": "code",
   "execution_count": 20,
   "metadata": {
    "collapsed": true
   },
   "outputs": [],
   "source": [
    "# cost / loss function\n",
    "cost = tf.reduce_mean(tf.square(hypothesis - Y))"
   ]
  },
  {
   "cell_type": "code",
   "execution_count": 42,
   "metadata": {},
   "outputs": [],
   "source": [
    "# Minimize. Need a very small learning rate for this data set ( ? )\n",
    "optimizer = tf.train.GradientDescentOptimizer(learning_rate=3e-5)\n",
    "train = optimizer.minimize(cost)"
   ]
  },
  {
   "cell_type": "code",
   "execution_count": 43,
   "metadata": {
    "collapsed": true
   },
   "outputs": [],
   "source": [
    "history = []\n",
    "cost_history = []"
   ]
  },
  {
   "cell_type": "code",
   "execution_count": 44,
   "metadata": {},
   "outputs": [
    {
     "name": "stdout",
     "output_type": "stream",
     "text": [
      "0 Cost :  1195.51 \n",
      "Prediction :  [ 178.05781555  224.09597778  215.48687744  235.39004517  172.97053528]\n",
      "100 Cost :  6.00965 \n",
      "Prediction :  [ 147.76141357  187.12963867  179.35110474  196.00007629  144.66949463]\n",
      "200 Cost :  5.15362 \n",
      "Prediction :  [ 148.03167725  186.94494629  179.43466187  196.05462646  144.43209839]\n",
      "300 Cost :  4.42572 \n",
      "Prediction :  [ 148.28105164  186.77459717  179.51184082  196.10458374  144.21350098]\n",
      "400 Cost :  3.80677 \n",
      "Prediction :  [ 148.51112366  186.61746216  179.58306885  196.15029907  144.01220703]\n",
      "500 Cost :  3.28038 \n",
      "Prediction :  [ 148.72341919  186.47250366  179.64886475  196.19210815  143.82687378]\n",
      "600 Cost :  2.83268 \n",
      "Prediction :  [ 148.91932678  186.33877563  179.70960999  196.23033142  143.65625   ]\n",
      "700 Cost :  2.45185 \n",
      "Prediction :  [ 149.10012817  186.21540833  179.76573181  196.26524353  143.49917603]\n",
      "800 Cost :  2.12788 \n",
      "Prediction :  [ 149.26699829  186.10162354  179.81762695  196.29710388  143.35462952]\n",
      "900 Cost :  1.85222 \n",
      "Prediction :  [ 149.42100525  185.99659729  179.86550903  196.3261261   143.22157288]\n",
      "1000 Cost :  1.61762 \n",
      "Prediction :  [ 149.56315613  185.89967346  179.90975952  196.35253906  143.09910583]\n",
      "1100 Cost :  1.41795 \n",
      "Prediction :  [ 149.69439697  185.81027222  179.95069885  196.37661743  142.98646545]\n",
      "1200 Cost :  1.24792 \n",
      "Prediction :  [ 149.81561279  185.72776794  179.98855591  196.39851379  142.88285828]\n",
      "1300 Cost :  1.10313 \n",
      "Prediction :  [ 149.92750549  185.65162659  180.02354431  196.41833496  142.78755188]\n",
      "1400 Cost :  0.979777 \n",
      "Prediction :  [ 150.03082275  185.58131409  180.05586243  196.43629456  142.69987488]\n",
      "1500 Cost :  0.874668 \n",
      "Prediction :  [ 150.12625122  185.51643372  180.08581543  196.45256042  142.61929321]\n",
      "1600 Cost :  0.785036 \n",
      "Prediction :  [ 150.2144165   185.45652771  180.11351013  196.46722412  142.54522705]\n",
      "1700 Cost :  0.708591 \n",
      "Prediction :  [ 150.29586792  185.40124512  180.1391449   196.48046875  142.47715759]\n",
      "1800 Cost :  0.643339 \n",
      "Prediction :  [ 150.37113953  185.35018921  180.16288757  196.49237061  142.41462708]\n",
      "1900 Cost :  0.587612 \n",
      "Prediction :  [ 150.44068909  185.30302429  180.18486023  196.5030365   142.35716248]\n",
      "2000 Cost :  0.539979 \n",
      "Prediction :  [ 150.50497437  185.25946045  180.20521545  196.51254272  142.30439758]\n"
     ]
    },
    {
     "data": {
      "image/png": "[encoded data removed]",
      "text/plain": [
       "<matplotlib.figure.Figure at 0x29589a10630>"
      ]
     },
     "metadata": {},
     "output_type": "display_data"
    }
   ],
   "source": [
    "sess = tf.Session()\n",
    "sess.run(tf.global_variables_initializer())\n",
    "    \n",
    "for step in range(2001):\n",
    "    cost_val, h_val, _ = sess.run([cost, hypothesis, train],\n",
    "                                  feed_dict = {x1: x1_data, x2: x2_data, x3: x3_data, Y: y_data})\n",
    "    if step > 10:\n",
    "        history.append(step)\n",
    "        cost_history.append(cost_val)\n",
    "    if step % 100 == 0:\n",
    "        print(step, \"Cost : \", cost_val, \"\\nPrediction : \", h_val)\n",
    "    \n",
    "plt.plot(history, cost_history)\n",
    "plt.show()\n",
    "\n",
    "sess.close()"
   ]
  },
  {
   "cell_type": "code",
   "execution_count": null,
   "metadata": {
    "collapsed": true
   },
   "outputs": [],
   "source": []
  }
 ],
 "metadata": {
  "kernelspec": {
   "display_name": "Python 3",
   "language": "python",
   "name": "python3"
  },
  "language_info": {
   "codemirror_mode": {
    "name": "ipython",
    "version": 3
   },
   "file_extension": ".py",
   "mimetype": "text/x-python",
   "name": "python",
   "nbconvert_exporter": "python",
   "pygments_lexer": "ipython3",
   "version": "3.6.3"
  }
 },
 "nbformat": 4,
 "nbformat_minor": 2
}
