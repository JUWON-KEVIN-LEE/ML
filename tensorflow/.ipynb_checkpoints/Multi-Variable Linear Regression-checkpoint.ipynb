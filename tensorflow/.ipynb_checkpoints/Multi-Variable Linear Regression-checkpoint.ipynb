{
 "cells": [
  {
   "cell_type": "code",
   "execution_count": 1,
   "metadata": {
    "collapsed": true
   },
   "outputs": [],
   "source": [
    "# Multi-variable linear regression\n",
    "import tensorflow as tf\n",
    "import matplotlib.pyplot as plt\n",
    "tf.set_random_seed(777)"
   ]
  },
  {
   "cell_type": "code",
   "execution_count": 2,
   "metadata": {
    "collapsed": true
   },
   "outputs": [],
   "source": [
    "x1_data = [73., 93., 89., 96., 73.]\n",
    "x2_data = [80., 88., 91., 98., 66.]\n",
    "x3_data = [75., 93., 90., 100., 70.]"
   ]
  },
  {
   "cell_type": "code",
   "execution_count": 3,
   "metadata": {
    "collapsed": true
   },
   "outputs": [],
   "source": [
    "y_data = [152., 185., 180., 196., 142.]"
   ]
  },
  {
   "cell_type": "code",
   "execution_count": 4,
   "metadata": {
    "collapsed": true
   },
   "outputs": [],
   "source": [
    "x1 = tf.placeholder(tf.float32)\n",
    "x2 = tf.placeholder(tf.float32)\n",
    "x3 = tf.placeholder(tf.float32)"
   ]
  },
  {
   "cell_type": "code",
   "execution_count": 5,
   "metadata": {
    "collapsed": true
   },
   "outputs": [],
   "source": [
    "Y = tf.placeholder(tf.float32)"
   ]
  },
  {
   "cell_type": "code",
   "execution_count": 6,
   "metadata": {
    "collapsed": true
   },
   "outputs": [],
   "source": [
    "w1 = tf.Variable(tf.random_normal([1]), name=\"weight1\")\n",
    "w2 = tf.Variable(tf.random_normal([1]), name=\"weight2\")\n",
    "w3 = tf.Variable(tf.random_normal([1]), name=\"weight3\")\n",
    "b = tf.Variable(tf.random_normal([1]), name=\"bias\")"
   ]
  },
  {
   "cell_type": "code",
   "execution_count": 7,
   "metadata": {},
   "outputs": [
    {
     "name": "stdout",
     "output_type": "stream",
     "text": [
      "Tensor(\"add_2:0\", dtype=float32)\n"
     ]
    }
   ],
   "source": [
    "hypothesis = x1 * w1 + x2 * w2 + x3 * w3 + b\n",
    "print(hypothesis)"
   ]
  },
  {
   "cell_type": "code",
   "execution_count": 8,
   "metadata": {
    "collapsed": true
   },
   "outputs": [],
   "source": [
    "# cost / loss function\n",
    "cost = tf.reduce_mean(tf.square(hypothesis - Y))"
   ]
  },
  {
   "cell_type": "code",
   "execution_count": 9,
   "metadata": {},
   "outputs": [],
   "source": [
    "# Minimize. Need a very small learning rate for this data set ( ? )\n",
    "optimizer = tf.train.GradientDescentOptimizer(learning_rate=1e-5)\n",
    "train = optimizer.minimize(cost)"
   ]
  },
  {
   "cell_type": "code",
   "execution_count": 10,
   "metadata": {
    "collapsed": true
   },
   "outputs": [],
   "source": [
    "history = []\n",
    "cost_history = []"
   ]
  },
  {
   "cell_type": "code",
   "execution_count": 11,
   "metadata": {},
   "outputs": [
    {
     "name": "stdout",
     "output_type": "stream",
     "text": [
      "0 Cost :  62547.3 \n",
      "Prediction :  [-75.96344757 -78.27629089 -83.83014679 -90.80435944 -56.97648239]\n",
      "100 Cost :  13.2472 \n",
      "Prediction :  [ 146.06376648  188.31446838  178.98654175  195.37893677  146.31259155]\n",
      "200 Cost :  12.5621 \n",
      "Prediction :  [ 146.20278931  188.21931458  179.02929688  195.40849304  146.18890381]\n",
      "300 Cost :  11.9133 \n",
      "Prediction :  [ 146.33810425  188.12670898  179.07095337  195.43722534  146.068573  ]\n",
      "400 Cost :  11.2986 \n",
      "Prediction :  [ 146.4697876   188.0365448   179.11146545  195.46513367  145.95143127]\n",
      "500 Cost :  10.7164 \n",
      "Prediction :  [ 146.59799194  187.94880676  179.15092468  195.49229431  145.83746338]\n",
      "600 Cost :  10.1648 \n",
      "Prediction :  [ 146.72277832  187.86340332  179.18934631  195.51869202  145.7265625 ]\n",
      "700 Cost :  9.64238 \n",
      "Prediction :  [ 146.84425354  187.7802887   179.22674561  195.54437256  145.61865234]\n",
      "800 Cost :  9.14744 \n",
      "Prediction :  [ 146.96246338  187.69935608  179.26315308  195.56930542  145.51361084]\n",
      "900 Cost :  8.6786 \n",
      "Prediction :  [ 147.07757568  187.62060547  179.29858398  195.59356689  145.41145325]\n",
      "1000 Cost :  8.23449 \n",
      "Prediction :  [ 147.18959045  187.54394531  179.33308411  195.61715698  145.31201172]\n",
      "1100 Cost :  7.81377 \n",
      "Prediction :  [ 147.29864502  187.46932983  179.3666687   195.64007568  145.21525574]\n",
      "1200 Cost :  7.41522 \n",
      "Prediction :  [ 147.40480042  187.396698    179.39938354  195.66235352  145.12110901]\n",
      "1300 Cost :  7.0377 \n",
      "Prediction :  [ 147.50811768  187.32600403  179.43119812  195.684021    145.02949524]\n",
      "1400 Cost :  6.68003 \n",
      "Prediction :  [ 147.60870361  187.25717163  179.46218872  195.70504761  144.94033813]\n",
      "1500 Cost :  6.34126 \n",
      "Prediction :  [ 147.706604    187.19020081  179.49237061  195.72554016  144.85360718]\n",
      "1600 Cost :  6.02031 \n",
      "Prediction :  [ 147.8019104   187.125       179.52174377  195.74542236  144.76919556]\n",
      "1700 Cost :  5.71629 \n",
      "Prediction :  [ 147.89468384  187.06155396  179.55033875  195.76475525  144.6870575 ]\n",
      "1800 Cost :  5.4283 \n",
      "Prediction :  [ 147.98498535  186.99978638  179.57817078  195.78353882  144.60714722]\n",
      "1900 Cost :  5.15548 \n",
      "Prediction :  [ 148.07289124  186.93965149  179.6053009   195.80180359  144.52940369]\n",
      "2000 Cost :  4.89701 \n",
      "Prediction :  [ 148.15844727  186.88110352  179.63166809  195.8195343   144.45372009]\n"
     ]
    },
    {
     "data": {
      "image/png": "[encoded data removed]",
      "text/plain": [
       "<matplotlib.figure.Figure at 0x29583e975c0>"
      ]
     },
     "metadata": {},
     "output_type": "display_data"
    }
   ],
   "source": [
    "sess = tf.Session()\n",
    "sess.run(tf.global_variables_initializer())\n",
    "    \n",
    "for step in range(2001):\n",
    "    cost_val, h_val, _ = sess.run([cost, hypothesis, train],\n",
    "                                  feed_dict = {x1: x1_data, x2: x2_data, x3: x3_data, Y: y_data})\n",
    "    if step > 100:\n",
    "        history.append(step)\n",
    "        cost_history.append(cost_val)\n",
    "    if step % 100 == 0:\n",
    "        print(step, \"Cost : \", cost_val, \"\\nPrediction : \", h_val)\n",
    "    \n",
    "plt.plot(history, cost_history)\n",
    "plt.show()\n",
    "\n",
    "sess.close()"
   ]
  },
  {
   "cell_type": "code",
   "execution_count": null,
   "metadata": {
    "collapsed": true
   },
   "outputs": [],
   "source": []
  }
 ],
 "metadata": {
  "kernelspec": {
   "display_name": "Python 3",
   "language": "python",
   "name": "python3"
  },
  "language_info": {
   "codemirror_mode": {
    "name": "ipython",
    "version": 3
   },
   "file_extension": ".py",
   "mimetype": "text/x-python",
   "name": "python",
   "nbconvert_exporter": "python",
   "pygments_lexer": "ipython3",
   "version": "3.6.3"
  }
 },
 "nbformat": 4,
 "nbformat_minor": 2
}
